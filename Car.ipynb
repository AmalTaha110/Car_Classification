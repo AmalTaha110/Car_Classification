{
 "cells": [
  {
   "cell_type": "code",
   "execution_count": 6,
   "id": "6c88c5c4",
   "metadata": {},
   "outputs": [],
   "source": [
    "import pandas as pd\n",
    "from sklearn.model_selection import train_test_split\n",
    "from sklearn.preprocessing import StandardScaler, OneHotEncoder\n",
    "from sklearn.compose import ColumnTransformer\n",
    "from sklearn.pipeline import Pipeline\n",
    "from sklearn.tree import DecisionTreeClassifier\n",
    "from sklearn.metrics import accuracy_score, classification_report, confusion_matrix\n",
    "from sklearn.preprocessing import LabelEncoder"
   ]
  },
  {
   "cell_type": "code",
   "execution_count": 7,
   "id": "0b5ef888",
   "metadata": {},
   "outputs": [
    {
     "data": {
      "text/html": [
       "<div>\n",
       "<style scoped>\n",
       "    .dataframe tbody tr th:only-of-type {\n",
       "        vertical-align: middle;\n",
       "    }\n",
       "\n",
       "    .dataframe tbody tr th {\n",
       "        vertical-align: top;\n",
       "    }\n",
       "\n",
       "    .dataframe thead th {\n",
       "        text-align: right;\n",
       "    }\n",
       "</style>\n",
       "<table border=\"1\" class=\"dataframe\">\n",
       "  <thead>\n",
       "    <tr style=\"text-align: right;\">\n",
       "      <th></th>\n",
       "      <th>buying</th>\n",
       "      <th>maint</th>\n",
       "      <th>doors</th>\n",
       "      <th>persons</th>\n",
       "      <th>lug_boot</th>\n",
       "      <th>safety</th>\n",
       "      <th>class</th>\n",
       "    </tr>\n",
       "  </thead>\n",
       "  <tbody>\n",
       "    <tr>\n",
       "      <th>0</th>\n",
       "      <td>vhigh</td>\n",
       "      <td>vhigh</td>\n",
       "      <td>2</td>\n",
       "      <td>2</td>\n",
       "      <td>small</td>\n",
       "      <td>low</td>\n",
       "      <td>unacc</td>\n",
       "    </tr>\n",
       "    <tr>\n",
       "      <th>1</th>\n",
       "      <td>vhigh</td>\n",
       "      <td>vhigh</td>\n",
       "      <td>2</td>\n",
       "      <td>2</td>\n",
       "      <td>small</td>\n",
       "      <td>med</td>\n",
       "      <td>unacc</td>\n",
       "    </tr>\n",
       "    <tr>\n",
       "      <th>2</th>\n",
       "      <td>vhigh</td>\n",
       "      <td>vhigh</td>\n",
       "      <td>2</td>\n",
       "      <td>2</td>\n",
       "      <td>small</td>\n",
       "      <td>high</td>\n",
       "      <td>unacc</td>\n",
       "    </tr>\n",
       "    <tr>\n",
       "      <th>3</th>\n",
       "      <td>vhigh</td>\n",
       "      <td>vhigh</td>\n",
       "      <td>2</td>\n",
       "      <td>2</td>\n",
       "      <td>med</td>\n",
       "      <td>low</td>\n",
       "      <td>unacc</td>\n",
       "    </tr>\n",
       "    <tr>\n",
       "      <th>4</th>\n",
       "      <td>vhigh</td>\n",
       "      <td>vhigh</td>\n",
       "      <td>2</td>\n",
       "      <td>2</td>\n",
       "      <td>med</td>\n",
       "      <td>med</td>\n",
       "      <td>unacc</td>\n",
       "    </tr>\n",
       "    <tr>\n",
       "      <th>...</th>\n",
       "      <td>...</td>\n",
       "      <td>...</td>\n",
       "      <td>...</td>\n",
       "      <td>...</td>\n",
       "      <td>...</td>\n",
       "      <td>...</td>\n",
       "      <td>...</td>\n",
       "    </tr>\n",
       "    <tr>\n",
       "      <th>1723</th>\n",
       "      <td>low</td>\n",
       "      <td>low</td>\n",
       "      <td>5more</td>\n",
       "      <td>more</td>\n",
       "      <td>med</td>\n",
       "      <td>med</td>\n",
       "      <td>good</td>\n",
       "    </tr>\n",
       "    <tr>\n",
       "      <th>1724</th>\n",
       "      <td>low</td>\n",
       "      <td>low</td>\n",
       "      <td>5more</td>\n",
       "      <td>more</td>\n",
       "      <td>med</td>\n",
       "      <td>high</td>\n",
       "      <td>vgood</td>\n",
       "    </tr>\n",
       "    <tr>\n",
       "      <th>1725</th>\n",
       "      <td>low</td>\n",
       "      <td>low</td>\n",
       "      <td>5more</td>\n",
       "      <td>more</td>\n",
       "      <td>big</td>\n",
       "      <td>low</td>\n",
       "      <td>unacc</td>\n",
       "    </tr>\n",
       "    <tr>\n",
       "      <th>1726</th>\n",
       "      <td>low</td>\n",
       "      <td>low</td>\n",
       "      <td>5more</td>\n",
       "      <td>more</td>\n",
       "      <td>big</td>\n",
       "      <td>med</td>\n",
       "      <td>good</td>\n",
       "    </tr>\n",
       "    <tr>\n",
       "      <th>1727</th>\n",
       "      <td>low</td>\n",
       "      <td>low</td>\n",
       "      <td>5more</td>\n",
       "      <td>more</td>\n",
       "      <td>big</td>\n",
       "      <td>high</td>\n",
       "      <td>vgood</td>\n",
       "    </tr>\n",
       "  </tbody>\n",
       "</table>\n",
       "<p>1728 rows × 7 columns</p>\n",
       "</div>"
      ],
      "text/plain": [
       "     buying  maint  doors persons lug_boot safety  class\n",
       "0     vhigh  vhigh      2       2    small    low  unacc\n",
       "1     vhigh  vhigh      2       2    small    med  unacc\n",
       "2     vhigh  vhigh      2       2    small   high  unacc\n",
       "3     vhigh  vhigh      2       2      med    low  unacc\n",
       "4     vhigh  vhigh      2       2      med    med  unacc\n",
       "...     ...    ...    ...     ...      ...    ...    ...\n",
       "1723    low    low  5more    more      med    med   good\n",
       "1724    low    low  5more    more      med   high  vgood\n",
       "1725    low    low  5more    more      big    low  unacc\n",
       "1726    low    low  5more    more      big    med   good\n",
       "1727    low    low  5more    more      big   high  vgood\n",
       "\n",
       "[1728 rows x 7 columns]"
      ]
     },
     "execution_count": 7,
     "metadata": {},
     "output_type": "execute_result"
    }
   ],
   "source": [
    "df = pd.read_csv('car.csv')\n",
    "df"
   ]
  },
  {
   "cell_type": "code",
   "execution_count": 8,
   "id": "3bf668b8",
   "metadata": {},
   "outputs": [
    {
     "name": "stdout",
     "output_type": "stream",
     "text": [
      "buying      object\n",
      "maint       object\n",
      "doors       object\n",
      "persons     object\n",
      "lug_boot    object\n",
      "safety      object\n",
      "class       object\n",
      "dtype: object\n"
     ]
    }
   ],
   "source": [
    "print(df.dtypes)"
   ]
  },
  {
   "cell_type": "code",
   "execution_count": 9,
   "id": "0492fe5d",
   "metadata": {},
   "outputs": [],
   "source": [
    "X = df.drop('class', axis=1)\n",
    "y = df['class']"
   ]
  },
  {
   "cell_type": "code",
   "execution_count": 10,
   "id": "9a2f34cb",
   "metadata": {},
   "outputs": [],
   "source": [
    "# Convert categorical variables to numerical using LabelEncoder\n",
    "label_encoder = LabelEncoder()\n",
    "X_encoded = X.apply(label_encoder.fit_transform)\n",
    "\n",
    "# Split the data into training and testing sets\n",
    "X_train, X_test, y_train, y_test = train_test_split(X_encoded, y, test_size=0.2, random_state=42)"
   ]
  },
  {
   "cell_type": "code",
   "execution_count": 11,
   "id": "869ab58a",
   "metadata": {},
   "outputs": [
    {
     "name": "stdout",
     "output_type": "stream",
     "text": [
      "Accuracy: 0.9739884393063584\n",
      "Confusion Matrix:\n",
      " [[ 76   6   1   0]\n",
      " [  1  10   0   0]\n",
      " [  0   0 235   0]\n",
      " [  1   0   0  16]]\n",
      "Classification Report:\n",
      "               precision    recall  f1-score   support\n",
      "\n",
      "         acc       0.97      0.92      0.94        83\n",
      "        good       0.62      0.91      0.74        11\n",
      "       unacc       1.00      1.00      1.00       235\n",
      "       vgood       1.00      0.94      0.97        17\n",
      "\n",
      "    accuracy                           0.97       346\n",
      "   macro avg       0.90      0.94      0.91       346\n",
      "weighted avg       0.98      0.97      0.98       346\n",
      "\n"
     ]
    }
   ],
   "source": [
    "model = DecisionTreeClassifier(random_state=42)\n",
    "model.fit(X_train, y_train)\n",
    "\n",
    "# Make predictions on the test set\n",
    "y_pred = model.predict(X_test)\n",
    "\n",
    "# Evaluate the model\n",
    "print(\"Accuracy:\", accuracy_score(y_test, y_pred))\n",
    "print(\"Confusion Matrix:\\n\", confusion_matrix(y_test, y_pred))\n",
    "print(\"Classification Report:\\n\", classification_report(y_test, y_pred))"
   ]
  },
  {
   "cell_type": "code",
   "execution_count": 12,
   "id": "bf7945a3",
   "metadata": {},
   "outputs": [
    {
     "name": "stdout",
     "output_type": "stream",
     "text": [
      "['unacc']\n"
     ]
    }
   ],
   "source": [
    "specified_data = ['vhigh', 'vhigh', '2', '2', 'small', 'low']\n",
    "specified_data= pd.DataFrame([specified_data], columns=X.columns)\n",
    "specified_data= specified_data.apply(label_encoder.fit_transform)\n",
    "\n",
    "# Make predictions\n",
    "pred_specified_data = model.predict(specified_data)\n",
    "\n",
    "print(pred_specified_data)\n"
   ]
  },
  {
   "cell_type": "code",
   "execution_count": 13,
   "id": "1da8e2e0",
   "metadata": {},
   "outputs": [
    {
     "name": "stdout",
     "output_type": "stream",
     "text": [
      "Accuracy: 0.52\n"
     ]
    }
   ],
   "source": [
    "testdf = pd.read_csv('testcar.csv')\n",
    "X_test = testdf.drop('class', axis=1)\n",
    "y_test = testdf['class']\n",
    "#print(testdf)\n",
    "label_encoder = LabelEncoder()\n",
    "X_encoded = X_test.apply(label_encoder.fit_transform)\n",
    "# Make predictions on the test set\n",
    "y_pred = model.predict(X_encoded)\n",
    "print(\"Accuracy:\", accuracy_score(y_test, y_pred))"
   ]
  },
  {
   "cell_type": "code",
   "execution_count": 23,
   "id": "33a35811",
   "metadata": {},
   "outputs": [
    {
     "name": "stdout",
     "output_type": "stream",
     "text": [
      "Accuracy: 0.0\n"
     ]
    }
   ],
   "source": [
    "testdf = pd.read_csv('nocorr.csv')\n",
    "X_test = testdf.drop('class', axis=1)\n",
    "y_test = testdf['class']\n",
    "#print(testdf)\n",
    "#print(X_test)\n",
    "#print(y_test)\n",
    "label_encoder = LabelEncoder()\n",
    "X_encoded_no = X_test.apply(label_encoder.fit_transform)\n",
    "#print(X_encoded_no)\n",
    "# Make predictions on the test set\n",
    "y_pred_no = model.predict(X_encoded_no)\n",
    "print(\"Accuracy:\", accuracy_score(y_test, y_pred))\n",
    "#print(y_pred_no)\n",
    "specified_data = ['aaaa', 'bbbb', '11', '23', 'mmm', 'ggg']\n",
    "specified_data= pd.DataFrame([specified_data], columns=X_test.columns)\n",
    "specified_data= specified_data.apply(label_encoder.fit_transform)\n",
    "\n",
    "# Make predictions\n",
    "pred_specified_data = model.predict(specified_data)\n",
    "\n",
    "#print(pred_specified_data)"
   ]
  },
  {
   "cell_type": "code",
   "execution_count": 24,
   "id": "c866d5f1",
   "metadata": {},
   "outputs": [
    {
     "name": "stdout",
     "output_type": "stream",
     "text": [
      "    buying maint doors persons lug_boot safety class\n",
      "0     aaaa  bbbb    11      23      mmm    ggg   BMW\n",
      "1     aaaa  bbbb    11      23      mmm    ggg   BMW\n",
      "2     aaaa  bbbb    11      23      mmm    ggg   BMW\n",
      "3     aaaa  bbbb    11      23      mmm    ggg   BMW\n",
      "4     aaaa  bbbb    11      23      mmm    ggg   BMW\n",
      "..     ...   ...   ...     ...      ...    ...   ...\n",
      "593   aaaa  bbbb    11      23      mmm    ggg   BMW\n",
      "594   aaaa  bbbb    11      23      mmm    ggg   BMW\n",
      "595   aaaa  bbbb    11      23      mmm    ggg   BMW\n",
      "596   aaaa  bbbb    11      23      mmm    ggg   BMW\n",
      "597   aaaa  bbbb    11      23      mmm    ggg   BMW\n",
      "\n",
      "[598 rows x 7 columns]\n",
      "Accuracy: 0.24414715719063546\n"
     ]
    }
   ],
   "source": [
    "testdf = pd.read_csv('50corr.csv')\n",
    "X_test = testdf.drop('class', axis=1)\n",
    "y_test = testdf['class']\n",
    "print(testdf)\n",
    "label_encoder = LabelEncoder()\n",
    "X_encoded = X_test.apply(label_encoder.fit_transform)\n",
    "# Make predictions on the test set\n",
    "y_pred = model.predict(X_encoded)\n",
    "print(\"Accuracy:\", accuracy_score(y_test, y_pred))\n",
    "specified_data = ['aaaa', 'bbbb', '11', '23', 'mmm', 'ggg']\n",
    "specified_data= pd.DataFrame([specified_data], columns=X_test.columns)\n",
    "specified_data= specified_data.apply(label_encoder.fit_transform)\n",
    "\n",
    "# Make predictions\n",
    "pred_specified_data = model.predict(specified_data)\n",
    "\n",
    "#print(pred_specified_data)"
   ]
  },
  {
   "cell_type": "code",
   "execution_count": null,
   "id": "2263ec70",
   "metadata": {},
   "outputs": [],
   "source": []
  }
 ],
 "metadata": {
  "kernelspec": {
   "display_name": "Python 3 (ipykernel)",
   "language": "python",
   "name": "python3"
  },
  "language_info": {
   "codemirror_mode": {
    "name": "ipython",
    "version": 3
   },
   "file_extension": ".py",
   "mimetype": "text/x-python",
   "name": "python",
   "nbconvert_exporter": "python",
   "pygments_lexer": "ipython3",
   "version": "3.11.4"
  }
 },
 "nbformat": 4,
 "nbformat_minor": 5
}
